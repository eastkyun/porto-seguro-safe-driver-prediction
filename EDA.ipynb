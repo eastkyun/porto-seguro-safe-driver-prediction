{
 "cells": [
  {
   "cell_type": "markdown",
   "id": "5b0c897e",
   "metadata": {},
   "source": [
    "* 제목 : 안전 운전자 예측 \n",
    "* 미션 : 운전자가 내년에 보험금 청구를 할 것인지 예측\n",
    "* 문제 유형 : 분류? 회귀? 데이터 봐야할듯\n",
    "* 평가 지표 : 정규화된 지니계수. (1 - frac_pos) / 2"
   ]
  },
  {
   "cell_type": "code",
   "execution_count": null,
   "id": "b891e2c6",
   "metadata": {},
   "outputs": [],
   "source": [
    "import pandas as pd\n",
    "import numpy as np\n",
    "\n",
    "train = pd.read_csv('./data/train.csv')\n"
   ]
  },
  {
   "cell_type": "code",
   "execution_count": null,
   "id": "9332416e",
   "metadata": {},
   "outputs": [],
   "source": []
  },
  {
   "cell_type": "code",
   "execution_count": null,
   "id": "016aa0c5",
   "metadata": {},
   "outputs": [],
   "source": []
  }
 ],
 "metadata": {
  "kernelspec": {
   "display_name": "Python 3 (ipykernel)",
   "language": "python",
   "name": "python3"
  },
  "language_info": {
   "codemirror_mode": {
    "name": "ipython",
    "version": 3
   },
   "file_extension": ".py",
   "mimetype": "text/x-python",
   "name": "python",
   "nbconvert_exporter": "python",
   "pygments_lexer": "ipython3",
   "version": "3.9.12"
  }
 },
 "nbformat": 4,
 "nbformat_minor": 5
}

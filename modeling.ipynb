{
 "cells": [
  {
   "cell_type": "code",
   "execution_count": 1,
   "id": "6c06047c",
   "metadata": {},
   "outputs": [],
   "source": [
    "import pandas as pd\n",
    "import numpy as np\n",
    "\n",
    "train = pd.read_csv('./data/train.csv', index_col='id')\n",
    "test = pd.read_csv('./data/test.csv', index_col='id')\n",
    "submission = pd.read_csv('./data/sample_submission.csv', index_col='id')\n"
   ]
  },
  {
   "cell_type": "markdown",
   "id": "a01d3850",
   "metadata": {},
   "source": [
    "#### 피처 엔지니어링"
   ]
  },
  {
   "cell_type": "code",
   "execution_count": 3,
   "id": "57c82930",
   "metadata": {},
   "outputs": [],
   "source": [
    "all_data = pd.concat([train, test], ignore_index=True)\n",
    "all_data.drop(columns=['target'], inplace=True)"
   ]
  },
  {
   "cell_type": "code",
   "execution_count": 4,
   "id": "d7904a09",
   "metadata": {},
   "outputs": [
    {
     "data": {
      "text/plain": [
       "Index(['ps_ind_01', 'ps_ind_02_cat', 'ps_ind_03', 'ps_ind_04_cat',\n",
       "       'ps_ind_05_cat', 'ps_ind_06_bin', 'ps_ind_07_bin', 'ps_ind_08_bin',\n",
       "       'ps_ind_09_bin', 'ps_ind_10_bin', 'ps_ind_11_bin', 'ps_ind_12_bin',\n",
       "       'ps_ind_13_bin', 'ps_ind_14', 'ps_ind_15', 'ps_ind_16_bin',\n",
       "       'ps_ind_17_bin', 'ps_ind_18_bin', 'ps_reg_01', 'ps_reg_02', 'ps_reg_03',\n",
       "       'ps_car_01_cat', 'ps_car_02_cat', 'ps_car_03_cat', 'ps_car_04_cat',\n",
       "       'ps_car_05_cat', 'ps_car_06_cat', 'ps_car_07_cat', 'ps_car_08_cat',\n",
       "       'ps_car_09_cat', 'ps_car_10_cat', 'ps_car_11_cat', 'ps_car_11',\n",
       "       'ps_car_12', 'ps_car_13', 'ps_car_14', 'ps_car_15', 'ps_calc_01',\n",
       "       'ps_calc_02', 'ps_calc_03', 'ps_calc_04', 'ps_calc_05', 'ps_calc_06',\n",
       "       'ps_calc_07', 'ps_calc_08', 'ps_calc_09', 'ps_calc_10', 'ps_calc_11',\n",
       "       'ps_calc_12', 'ps_calc_13', 'ps_calc_14', 'ps_calc_15_bin',\n",
       "       'ps_calc_16_bin', 'ps_calc_17_bin', 'ps_calc_18_bin', 'ps_calc_19_bin',\n",
       "       'ps_calc_20_bin'],\n",
       "      dtype='object')"
      ]
     },
     "execution_count": 4,
     "metadata": {},
     "output_type": "execute_result"
    }
   ],
   "source": [
    "all_features = all_data.columns\n",
    "all_features"
   ]
  },
  {
   "cell_type": "code",
   "execution_count": 5,
   "id": "68bb8b0a",
   "metadata": {},
   "outputs": [
    {
     "data": {
      "text/plain": [
       "<1488028x184 sparse matrix of type '<class 'numpy.float64'>'\n",
       "\twith 20832392 stored elements in Compressed Sparse Row format>"
      ]
     },
     "execution_count": 5,
     "metadata": {},
     "output_type": "execute_result"
    }
   ],
   "source": [
    "from sklearn.preprocessing import OneHotEncoder\n",
    "# 명목형 피처 추출\n",
    "cat_features = [feature for feature in all_features if 'cat' in feature]\n",
    "onehot_encoder = OneHotEncoder()\n",
    "encoded_cat_matrix = onehot_encoder.fit_transform(all_data[cat_features])\n",
    "encoded_cat_matrix"
   ]
  },
  {
   "cell_type": "code",
   "execution_count": 9,
   "id": "fa6ee1ac",
   "metadata": {},
   "outputs": [],
   "source": [
    "# 추가로 제거할 피처\n",
    "drop_features = ['ps_ind_14', 'ps_ind_10_bin', 'ps_ind_11_bin', 'ps_ind_12_bin', 'ps_ind_13_bin', 'ps_car_14']\n",
    "\n",
    "remaining_features = [feature for feature in all_features \n",
    "                      if ('cat' not in feature and 'calc' not in feature and feature not in drop_features)]"
   ]
  },
  {
   "cell_type": "code",
   "execution_count": 10,
   "id": "b5b4615e",
   "metadata": {},
   "outputs": [],
   "source": [
    "from scipy import sparse\n",
    "all_data_sprs = sparse.hstack([sparse.csr_matrix(all_data[remaining_features]), encoded_cat_matrix], format='csr')"
   ]
  },
  {
   "cell_type": "code",
   "execution_count": 11,
   "id": "034acdb1",
   "metadata": {},
   "outputs": [],
   "source": [
    "num_train = len(train)\n",
    "\n",
    "X = all_data_sprs[:num_train]\n",
    "X_test = all_data_sprs[num_train:]\n",
    "y = train['target'].values"
   ]
  },
  {
   "cell_type": "code",
   "execution_count": 36,
   "id": "305e9e36",
   "metadata": {},
   "outputs": [],
   "source": [
    "def eval_gini(y_true, y_pred):\n",
    "    assert y_true.shape == y_pred.shape\n",
    "    \n",
    "    n_samples = y_true.shape[0]\n",
    "    L_mid = np.linspace(1 / n_samples, 1, n_samples)\n",
    "    \n",
    "    pred_order = y_true[y_pred.argsort()]\n",
    "    L_pred = np.cumsum(pred_order) / np.sum(pred_order)\n",
    "    G_pred = np.sum(L_mid - L_pred) \n",
    "    \n",
    "    true_order = y_true[y_true.argsort()]\n",
    "    L_true = np.cumsum(true_order) / np.sum(true_order)\n",
    "    G_true = np.sum(L_mid - L_true) \n",
    "    return G_pred/G_true\n",
    "\n",
    "def gini(preds, dtrain):\n",
    "    labels = dtrain.get_label()\n",
    "    return 'gini', eval_gini(labels, preds), True"
   ]
  },
  {
   "cell_type": "code",
   "execution_count": 17,
   "id": "cf6a6026",
   "metadata": {},
   "outputs": [],
   "source": [
    "from sklearn.model_selection import StratifiedKFold\n",
    "folds = StratifiedKFold(n_splits=5, shuffle=True, random_state=1004)\n",
    "params = {\n",
    "    'objective':'binary',\n",
    "    'learning_rate': 0.01,\n",
    "    'force_row_wise':True,\n",
    "    'random_state' : 1004    \n",
    "}\n",
    "oof_val_preds = np.zeros(X.shape[0])\n",
    "oof_test_preds = np.zeros(X_test.shape[0])\n"
   ]
  },
  {
   "cell_type": "code",
   "execution_count": 37,
   "id": "36d7db16",
   "metadata": {
    "scrolled": true
   },
   "outputs": [
    {
     "name": "stdout",
     "output_type": "stream",
     "text": [
      "######################################## 폴드 1/ 폴드 5 ########################################\n"
     ]
    },
    {
     "name": "stderr",
     "output_type": "stream",
     "text": [
      "D:\\anaconda3\\lib\\site-packages\\lightgbm\\engine.py:181: UserWarning: 'early_stopping_rounds' argument is deprecated and will be removed in a future release of LightGBM. Pass 'early_stopping()' callback via 'callbacks' argument instead.\n",
      "  _log_warning(\"'early_stopping_rounds' argument is deprecated and will be removed in a future release of LightGBM. \"\n",
      "D:\\anaconda3\\lib\\site-packages\\lightgbm\\engine.py:239: UserWarning: 'verbose_eval' argument is deprecated and will be removed in a future release of LightGBM. Pass 'log_evaluation()' callback via 'callbacks' argument instead.\n",
      "  _log_warning(\"'verbose_eval' argument is deprecated and will be removed in a future release of LightGBM. \"\n"
     ]
    },
    {
     "name": "stdout",
     "output_type": "stream",
     "text": [
      "[LightGBM] [Info] Number of positive: 17355, number of negative: 458814\n",
      "[LightGBM] [Info] Total Bins 1097\n",
      "[LightGBM] [Info] Number of data points in the train set: 476169, number of used features: 200\n",
      "[LightGBM] [Info] [binary:BoostFromScore]: pavg=0.036447 -> initscore=-3.274764\n",
      "[LightGBM] [Info] Start training from score -3.274764\n",
      "Training until validation scores don't improve for 100 rounds\n",
      "[100]\tvalid_0's binary_logloss: 0.153374\tvalid_0's gini: 0.254987\n",
      "[200]\tvalid_0's binary_logloss: 0.152471\tvalid_0's gini: 0.268811\n",
      "[300]\tvalid_0's binary_logloss: 0.152112\tvalid_0's gini: 0.275361\n",
      "[400]\tvalid_0's binary_logloss: 0.151938\tvalid_0's gini: 0.27888\n",
      "[500]\tvalid_0's binary_logloss: 0.151905\tvalid_0's gini: 0.279516\n",
      "Early stopping, best iteration is:\n",
      "[479]\tvalid_0's binary_logloss: 0.151898\tvalid_0's gini: 0.279729\n",
      "폴드 1 지니계수 : 0.27972874522391633\n",
      "######################################## 폴드 2/ 폴드 5 ########################################\n",
      "[LightGBM] [Info] Number of positive: 17355, number of negative: 458814\n",
      "[LightGBM] [Info] Total Bins 1100\n",
      "[LightGBM] [Info] Number of data points in the train set: 476169, number of used features: 200\n",
      "[LightGBM] [Info] [binary:BoostFromScore]: pavg=0.036447 -> initscore=-3.274764\n",
      "[LightGBM] [Info] Start training from score -3.274764\n",
      "Training until validation scores don't improve for 100 rounds\n",
      "[100]\tvalid_0's binary_logloss: 0.1535\tvalid_0's gini: 0.259058\n",
      "[200]\tvalid_0's binary_logloss: 0.152696\tvalid_0's gini: 0.269584\n",
      "[300]\tvalid_0's binary_logloss: 0.152369\tvalid_0's gini: 0.274473\n",
      "[400]\tvalid_0's binary_logloss: 0.152186\tvalid_0's gini: 0.277558\n",
      "[500]\tvalid_0's binary_logloss: 0.152088\tvalid_0's gini: 0.279732\n",
      "[600]\tvalid_0's binary_logloss: 0.152054\tvalid_0's gini: 0.280164\n",
      "[700]\tvalid_0's binary_logloss: 0.152024\tvalid_0's gini: 0.280645\n",
      "[800]\tvalid_0's binary_logloss: 0.152019\tvalid_0's gini: 0.280559\n",
      "Early stopping, best iteration is:\n",
      "[701]\tvalid_0's binary_logloss: 0.152023\tvalid_0's gini: 0.280685\n",
      "폴드 2 지니계수 : 0.2806847415527619\n",
      "######################################## 폴드 3/ 폴드 5 ########################################\n",
      "[LightGBM] [Info] Number of positive: 17356, number of negative: 458814\n",
      "[LightGBM] [Info] Total Bins 1100\n",
      "[LightGBM] [Info] Number of data points in the train set: 476170, number of used features: 200\n",
      "[LightGBM] [Info] [binary:BoostFromScore]: pavg=0.036449 -> initscore=-3.274707\n",
      "[LightGBM] [Info] Start training from score -3.274707\n",
      "Training until validation scores don't improve for 100 rounds\n",
      "[100]\tvalid_0's binary_logloss: 0.153261\tvalid_0's gini: 0.264394\n",
      "[200]\tvalid_0's binary_logloss: 0.152345\tvalid_0's gini: 0.275002\n",
      "[300]\tvalid_0's binary_logloss: 0.152011\tvalid_0's gini: 0.278758\n",
      "[400]\tvalid_0's binary_logloss: 0.151846\tvalid_0's gini: 0.281312\n",
      "[500]\tvalid_0's binary_logloss: 0.15177\tvalid_0's gini: 0.282564\n",
      "[600]\tvalid_0's binary_logloss: 0.15174\tvalid_0's gini: 0.282693\n",
      "Early stopping, best iteration is:\n",
      "[552]\tvalid_0's binary_logloss: 0.151746\tvalid_0's gini: 0.282854\n",
      "폴드 3 지니계수 : 0.28285449666392526\n",
      "######################################## 폴드 4/ 폴드 5 ########################################\n",
      "[LightGBM] [Info] Number of positive: 17355, number of negative: 458815\n",
      "[LightGBM] [Info] Total Bins 1099\n",
      "[LightGBM] [Info] Number of data points in the train set: 476170, number of used features: 200\n",
      "[LightGBM] [Info] [binary:BoostFromScore]: pavg=0.036447 -> initscore=-3.274766\n",
      "[LightGBM] [Info] Start training from score -3.274766\n",
      "Training until validation scores don't improve for 100 rounds\n",
      "[100]\tvalid_0's binary_logloss: 0.153356\tvalid_0's gini: 0.260425\n",
      "[200]\tvalid_0's binary_logloss: 0.152485\tvalid_0's gini: 0.272677\n",
      "[300]\tvalid_0's binary_logloss: 0.152138\tvalid_0's gini: 0.278419\n",
      "[400]\tvalid_0's binary_logloss: 0.151972\tvalid_0's gini: 0.28202\n",
      "[500]\tvalid_0's binary_logloss: 0.151876\tvalid_0's gini: 0.284029\n",
      "[600]\tvalid_0's binary_logloss: 0.151851\tvalid_0's gini: 0.284691\n",
      "Early stopping, best iteration is:\n",
      "[591]\tvalid_0's binary_logloss: 0.151848\tvalid_0's gini: 0.284852\n",
      "폴드 4 지니계수 : 0.2848522967872395\n",
      "######################################## 폴드 5/ 폴드 5 ########################################\n",
      "[LightGBM] [Info] Number of positive: 17355, number of negative: 458815\n",
      "[LightGBM] [Info] Total Bins 1100\n",
      "[LightGBM] [Info] Number of data points in the train set: 476170, number of used features: 200\n",
      "[LightGBM] [Info] [binary:BoostFromScore]: pavg=0.036447 -> initscore=-3.274766\n",
      "[LightGBM] [Info] Start training from score -3.274766\n",
      "Training until validation scores don't improve for 100 rounds\n",
      "[100]\tvalid_0's binary_logloss: 0.153333\tvalid_0's gini: 0.254478\n",
      "[200]\tvalid_0's binary_logloss: 0.152412\tvalid_0's gini: 0.268059\n",
      "[300]\tvalid_0's binary_logloss: 0.15202\tvalid_0's gini: 0.275445\n",
      "[400]\tvalid_0's binary_logloss: 0.151836\tvalid_0's gini: 0.27914\n",
      "[500]\tvalid_0's binary_logloss: 0.15172\tvalid_0's gini: 0.282091\n",
      "[600]\tvalid_0's binary_logloss: 0.151674\tvalid_0's gini: 0.283265\n",
      "[700]\tvalid_0's binary_logloss: 0.151654\tvalid_0's gini: 0.283924\n",
      "[800]\tvalid_0's binary_logloss: 0.151645\tvalid_0's gini: 0.284038\n",
      "Early stopping, best iteration is:\n",
      "[771]\tvalid_0's binary_logloss: 0.151642\tvalid_0's gini: 0.284236\n",
      "폴드 5 지니계수 : 0.28423555523317257\n"
     ]
    }
   ],
   "source": [
    "import lightgbm as lgb\n",
    "for idx, (train_idx, valid_idx) in enumerate(folds.split(X, y)):\n",
    "    print('#'*40, f'폴드 {idx+1}/ 폴드 {folds.n_splits}',  '#'*40 )\n",
    "    \n",
    "    X_train, y_train = X[train_idx], y[train_idx]\n",
    "    X_valid, y_valid = X[valid_idx], y[valid_idx]\n",
    "    \n",
    "    dtrain = lgb.Dataset(X_train, y_train)\n",
    "    dvalid = lgb.Dataset(X_valid, y_valid)\n",
    "    \n",
    "    lgb_model = lgb.train(params=params,\n",
    "                          train_set=dtrain,\n",
    "                          num_boost_round=1000,\n",
    "                          valid_sets=dvalid,\n",
    "                          feval=gini,\n",
    "                          early_stopping_rounds=100,\n",
    "                          verbose_eval=100                          \n",
    "                         )\n",
    "    oof_test_preds += lgb_model.predict(X_test)/folds.n_splits\n",
    "    oof_val_preds[valid_idx] += lgb_model.predict(X_valid)\n",
    "    \n",
    "    gini_score = eval_gini(y_valid, oof_val_preds[valid_idx])\n",
    "    print(f'폴드 {idx+1} 지니계수 : {gini_score}') "
   ]
  },
  {
   "cell_type": "code",
   "execution_count": 38,
   "id": "3b6df0e3",
   "metadata": {},
   "outputs": [],
   "source": [
    "submission['target'] = oof_test_preds\n",
    "submission.to_csv('submission.csv')"
   ]
  }
 ],
 "metadata": {
  "kernelspec": {
   "display_name": "Python 3 (ipykernel)",
   "language": "python",
   "name": "python3"
  },
  "language_info": {
   "codemirror_mode": {
    "name": "ipython",
    "version": 3
   },
   "file_extension": ".py",
   "mimetype": "text/x-python",
   "name": "python",
   "nbconvert_exporter": "python",
   "pygments_lexer": "ipython3",
   "version": "3.9.12"
  }
 },
 "nbformat": 4,
 "nbformat_minor": 5
}
